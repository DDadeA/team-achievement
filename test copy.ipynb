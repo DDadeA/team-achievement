{
 "cells": [
  {
   "cell_type": "code",
   "execution_count": null,
   "metadata": {},
   "outputs": [],
   "source": [
    "datapath =  [\"dataset_1.csv\", \"dataset_2.csv\"]"
   ]
  },
  {
   "cell_type": "code",
   "execution_count": null,
   "metadata": {},
   "outputs": [],
   "source": [
    "import pandas as pd\n",
    "\n",
    "data = pd.read_csv(datapath)"
   ]
  },
  {
   "cell_type": "code",
   "execution_count": null,
   "metadata": {},
   "outputs": [],
   "source": [
    "filtered = data[data[\"AGE_FLAG_NM\"] == \"청소년\"].filter(items=[\"MESURE_AGE_CO\", \"COAW_FLAG_NM\", \"MVM_PRSCRPTN_CN\", \"SEXDSTN_FLAG_CD\"])"
   ]
  },
  {
   "cell_type": "code",
   "execution_count": null,
   "metadata": {},
   "outputs": [],
   "source": [
    "exercises = {}\n",
    "\n",
    "for line in filtered['MVM_PRSCRPTN_CN'].values:\n",
    "    if not (\"본운동:\" in line):\n",
    "        continue\n",
    "    \n",
    "    for exercise in line.split(\"본운동:\")[1].split(\"/\")[0].split(\",\"):\n",
    "        if (\"루틴프로그램\" in exercise): continue\n",
    "        \n",
    "        exercise = exercise.strip()\n",
    "        if exercise not in exercises:\n",
    "            exercises[exercise] = 1\n",
    "        exercises[exercise] += 1"
   ]
  },
  {
   "cell_type": "code",
   "execution_count": null,
   "metadata": {},
   "outputs": [],
   "source": [
    "pd.DataFrame(exercises.items(), columns=[\"운동\", \"횟수\"]).sort_values(by=\"횟수\", ascending=False)[0:9]"
   ]
  },
  {
   "cell_type": "code",
   "execution_count": null,
   "metadata": {},
   "outputs": [],
   "source": [
    "def one_hot_encoder(exercise:str):\n",
    "    if exercise == \"조깅\":\n",
    "        return [1, 0, 0, 0, 0, 0, 0, 0, 0]\n",
    "    \n",
    "    if exercise == \"줄넘기 운동\":\n",
    "        return [0, 1, 0, 0, 0, 0, 0, 0, 0]\n",
    "    \n",
    "    if exercise == \"걷기\":\n",
    "        return [0, 0, 1, 0, 0, 0, 0, 0, 0]\n",
    "    \n",
    "    if exercise == \"버피 테스트\t\":\n",
    "        return [0, 0, 0, 1, 0, 0, 0, 0, 0]\n",
    "    \n",
    "    if exercise == \"자전거타기\":\n",
    "        return [0, 0, 0, 0, 1, 0, 0, 0, 0]\n",
    "    \n",
    "    if exercise == \"앉았다 일어서기\":\n",
    "        return [0, 0, 0, 0, 0, 1, 0, 0, 0]\n",
    "    \n",
    "    if exercise == \"몸통 들어올리기\":\n",
    "        return [0, 0, 0, 0, 0, 0, 1, 0, 0]\n",
    "    \n",
    "    if exercise == \"수영\":\n",
    "        return [0, 0, 0, 0, 0, 0, 0, 1, 0]\n",
    "    \n",
    "    if exercise == \"팔굽혀 펴기\":\n",
    "        return [0, 0, 0, 0, 0, 0, 0, 0, 1]\n",
    "    "
   ]
  },
  {
   "cell_type": "code",
   "execution_count": null,
   "metadata": {},
   "outputs": [],
   "source": []
  }
 ],
 "metadata": {
  "kernelspec": {
   "display_name": "Python 3",
   "language": "python",
   "name": "python3"
  },
  "language_info": {
   "codemirror_mode": {
    "name": "ipython",
    "version": 3
   },
   "file_extension": ".py",
   "mimetype": "text/x-python",
   "name": "python",
   "nbconvert_exporter": "python",
   "pygments_lexer": "ipython3",
   "version": "3.12.2"
  }
 },
 "nbformat": 4,
 "nbformat_minor": 2
}
