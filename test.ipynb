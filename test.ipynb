{
 "cells": [
  {
   "cell_type": "code",
   "execution_count": 1,
   "metadata": {},
   "outputs": [],
   "source": [
    "data_path = \"data/202303.csv\""
   ]
  },
  {
   "cell_type": "code",
   "execution_count": 2,
   "metadata": {},
   "outputs": [],
   "source": [
    "import pandas as pd\n",
    "\n",
    "data = pd.read_csv(data_path)"
   ]
  },
  {
   "cell_type": "code",
   "execution_count": 50,
   "metadata": {},
   "outputs": [],
   "source": [
    "filtered = data[data[\"AGE_FLAG_NM\"] == \"청소년\"].filter(items=[\"MESURE_AGE_CO\", \"COAW_FLAG_NM\", \"MVM_PRSCRPTN_CN\", \"SEXDSTN_FLAG_CD\"])"
   ]
  },
  {
   "cell_type": "code",
   "execution_count": 51,
   "metadata": {},
   "outputs": [],
   "source": [
    "exercises = {}\n",
    "\n",
    "for line in filtered['MVM_PRSCRPTN_CN'].values:\n",
    "    if not (\"본운동:\" in line):\n",
    "        continue\n",
    "    \n",
    "    for exercise in line.split(\"본운동:\")[1].split(\"/\")[0].split(\",\"):\n",
    "        if (\"루틴프로그램\" in exercise): continue\n",
    "        \n",
    "        exercise = exercise.strip()\n",
    "        if exercise not in exercises:\n",
    "            exercises[exercise] = 1\n",
    "        exercises[exercise] += 1"
   ]
  },
  {
   "cell_type": "code",
   "execution_count": 53,
   "metadata": {},
   "outputs": [
    {
     "data": {
      "text/html": [
       "<div>\n",
       "<style scoped>\n",
       "    .dataframe tbody tr th:only-of-type {\n",
       "        vertical-align: middle;\n",
       "    }\n",
       "\n",
       "    .dataframe tbody tr th {\n",
       "        vertical-align: top;\n",
       "    }\n",
       "\n",
       "    .dataframe thead th {\n",
       "        text-align: right;\n",
       "    }\n",
       "</style>\n",
       "<table border=\"1\" class=\"dataframe\">\n",
       "  <thead>\n",
       "    <tr style=\"text-align: right;\">\n",
       "      <th></th>\n",
       "      <th>운동</th>\n",
       "      <th>횟수</th>\n",
       "    </tr>\n",
       "  </thead>\n",
       "  <tbody>\n",
       "    <tr>\n",
       "      <th>0</th>\n",
       "      <td>조깅</td>\n",
       "      <td>1430</td>\n",
       "    </tr>\n",
       "    <tr>\n",
       "      <th>40</th>\n",
       "      <td>줄넘기 운동</td>\n",
       "      <td>997</td>\n",
       "    </tr>\n",
       "    <tr>\n",
       "      <th>76</th>\n",
       "      <td>걷기</td>\n",
       "      <td>878</td>\n",
       "    </tr>\n",
       "    <tr>\n",
       "      <th>71</th>\n",
       "      <td>버피 테스트</td>\n",
       "      <td>877</td>\n",
       "    </tr>\n",
       "    <tr>\n",
       "      <th>66</th>\n",
       "      <td>자전거타기</td>\n",
       "      <td>740</td>\n",
       "    </tr>\n",
       "    <tr>\n",
       "      <th>32</th>\n",
       "      <td>앉았다 일어서기</td>\n",
       "      <td>693</td>\n",
       "    </tr>\n",
       "    <tr>\n",
       "      <th>106</th>\n",
       "      <td>몸통 들어올리기</td>\n",
       "      <td>644</td>\n",
       "    </tr>\n",
       "    <tr>\n",
       "      <th>23</th>\n",
       "      <td>수영</td>\n",
       "      <td>548</td>\n",
       "    </tr>\n",
       "    <tr>\n",
       "      <th>105</th>\n",
       "      <td>팔굽혀 펴기</td>\n",
       "      <td>475</td>\n",
       "    </tr>\n",
       "  </tbody>\n",
       "</table>\n",
       "</div>"
      ],
      "text/plain": [
       "           운동    횟수\n",
       "0          조깅  1430\n",
       "40     줄넘기 운동   997\n",
       "76         걷기   878\n",
       "71     버피 테스트   877\n",
       "66      자전거타기   740\n",
       "32   앉았다 일어서기   693\n",
       "106  몸통 들어올리기   644\n",
       "23         수영   548\n",
       "105    팔굽혀 펴기   475"
      ]
     },
     "execution_count": 53,
     "metadata": {},
     "output_type": "execute_result"
    }
   ],
   "source": [
    "pd.DataFrame(exercises.items(), columns=[\"운동\", \"횟수\"]).sort_values(by=\"횟수\", ascending=False)[0:9]"
   ]
  },
  {
   "cell_type": "code",
   "execution_count": null,
   "metadata": {},
   "outputs": [],
   "source": [
    "def one_hot_encoder(exercise:str):\n",
    "    if exercise == \"조깅\":\n",
    "        return [1, 0, 0, 0, 0, 0, 0, 0, 0]\n",
    "    \n",
    "    if exercise == \"줄넘기 운동\":\n",
    "        return [0, 1, 0, 0, 0, 0, 0, 0, 0]\n",
    "    \n",
    "    if exercise == \"걷기\":\n",
    "        return [0, 0, 1, 0, 0, 0, 0, 0, 0]\n",
    "    \n",
    "    if exercise == \"버피 테스트\t\":\n",
    "        return [0, 0, 0, 1, 0, 0, 0, 0, 0]\n",
    "    \n",
    "    if exercise == \"자전거타기\":\n",
    "        return [0, 0, 0, 0, 1, 0, 0, 0, 0]\n",
    "    \n",
    "    if exercise == \"앉았다 일어서기\":\n",
    "        return [0, 0, 0, 0, 0, 1, 0, 0, 0]\n",
    "    \n",
    "    if exercise == \"몸통 들어올리기\":\n",
    "        return [0, 0, 0, 0, 0, 0, 1, 0, 0]\n",
    "    \n",
    "    if exercise == \"수영\":\n",
    "        return [0, 0, 0, 0, 0, 0, 0, 1, 0]\n",
    "    \n",
    "    if exercise == \"팔굽혀 펴기\":\n",
    "        return [0, 0, 0, 0, 0, 0, 0, 0, 1]\n",
    "    "
   ]
  },
  {
   "cell_type": "code",
   "execution_count": null,
   "metadata": {},
   "outputs": [],
   "source": []
  }
 ],
 "metadata": {
  "kernelspec": {
   "display_name": "Python 3",
   "language": "python",
   "name": "python3"
  },
  "language_info": {
   "codemirror_mode": {
    "name": "ipython",
    "version": 3
   },
   "file_extension": ".py",
   "mimetype": "text/x-python",
   "name": "python",
   "nbconvert_exporter": "python",
   "pygments_lexer": "ipython3",
   "version": "3.10.9"
  }
 },
 "nbformat": 4,
 "nbformat_minor": 2
}
